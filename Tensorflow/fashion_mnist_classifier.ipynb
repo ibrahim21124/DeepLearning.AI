{
 "cells": [
  {
   "cell_type": "code",
   "execution_count": 4,
   "metadata": {},
   "outputs": [],
   "source": [
    "import tensorflow as tf\n",
    "from tensorflow import keras\n",
    "from tensorflow.keras import Sequential\n",
    "from tensorflow.keras.layers import Dense\n",
    "import numpy as np\n",
    "import matplotlib.pyplot as plt"
   ]
  },
  {
   "cell_type": "code",
   "execution_count": 5,
   "metadata": {},
   "outputs": [
    {
     "name": "stdout",
     "output_type": "stream",
     "text": [
      "2.15.0\n"
     ]
    }
   ],
   "source": [
    "print(tf.__version__)"
   ]
  },
  {
   "cell_type": "markdown",
   "metadata": {},
   "source": [
    "## Loading Data"
   ]
  },
  {
   "cell_type": "markdown",
   "metadata": {},
   "source": [
    "\n",
    "| Label | Description |\n",
    "| --- | --- |\n",
    "| 0 | T-shirt/top |\n",
    "| 1 | Trouser |\n",
    "| 2 | Pullover |\n",
    "| 3 | Dress |\n",
    "| 4 | Coat |\n",
    "| 5 | Sandal |\n",
    "| 6 | Shirt |\n",
    "| 7 | Sneaker |\n",
    "| 8 | Bag |\n",
    "| 9 | Ankle boot |"
   ]
  },
  {
   "cell_type": "code",
   "execution_count": 6,
   "metadata": {},
   "outputs": [],
   "source": [
    "fmnist = keras.datasets.fashion_mnist"
   ]
  },
  {
   "cell_type": "code",
   "execution_count": 7,
   "metadata": {},
   "outputs": [],
   "source": [
    "(training_images, training_labels), (testing_images, testing_labels) = fmnist.load_data()"
   ]
  },
  {
   "cell_type": "code",
   "execution_count": 8,
   "metadata": {},
   "outputs": [
    {
     "data": {
      "text/plain": [
       "60000"
      ]
     },
     "execution_count": 8,
     "metadata": {},
     "output_type": "execute_result"
    }
   ],
   "source": [
    "len(training_images)"
   ]
  },
  {
   "cell_type": "code",
   "execution_count": 11,
   "metadata": {},
   "outputs": [
    {
     "name": "stdout",
     "output_type": "stream",
     "text": [
      "LABEL: 1\n",
      "\n",
      "IMAGE PIXEL ARRAY:\n",
      " [[  0   0   0   0   0   0   0   0   0  53 146 127 115 111 130 129 100 147 169 190   0   0   0   0   0   0   0   0]\n",
      " [  0   0   0   0   0   0   0   0   0 117 190 188 221 234 254 236 221 205 186 222   0   0   0   0   0   0   0   0]\n",
      " [  0   0   0   0   0   0   0   0   0 127 156 175 193 195 195 202 203 187 168 228  32   0   0   0   0   0   0   0]\n",
      " [  0   0   0   0   0   0   0   0   0 165 186 198 209 219 198 205 211 201 189 233  94   0   0   0   0   0   0   0]\n",
      " [  0   0   0   0   0   0   0   0   0 185 199 210 225 207 201 207 221 210 208 236 111   0   0   0   0   0   0   0]\n",
      " [  0   0   0   0   0   0   0   0   0 200 175 172 215 224 216 216 223 210 198 237 152   0   0   0   0   0   0   0]\n",
      " [  0   0   0   0   0   0   0   0   7 213 156 151 171 187 215 227 212 200 178 215 177   0   0   0   0   0   0   0]\n",
      " [  0   0   0   0   0   0   0   0  25 201 136 156 178 198 213 235 168 166 163 207 178   0   0   0   0   0   0   0]\n",
      " [  0   0   0   0   0   0   0   0  42 195 134 162 171 201   1 229 198 166 154 193 173   0   0   0   0   0   0   0]\n",
      " [  0   0   0   0   0   0   0   0  50 184 134 167 184 181   0 213 190 197 179 189 179   0   0   0   0   0   0   0]\n",
      " [  0   0   0   0   0   0   0   0  49 175 134 169 169 211   0 196 178 153 183 196 176   0   0   0   0   0   0   0]\n",
      " [  0   0   0   0   0   0   0   0  50 173 134 167 174 223   0 161 208 140 172 198 173   0   0   0   0   0   0   0]\n",
      " [  0   0   0   0   0   0   0   0  49 169 125 158 187 213   0 124 219 132 149 198 176   0   0   0   0   0   0   0]\n",
      " [  0   0   0   0   0   0   0   0  49 168 128 150 192 197   0  82 219 152 153 177 175   0   0   0   0   0   0   0]\n",
      " [  0   0   0   0   0   0   0   0  50 174 136 144 190 185   0  29 221 155 153 184 174   0   0   0   0   0   0   0]\n",
      " [  0   0   0   0   0   0   0   0  53 175 140 161 191 143   0  13 221 154 156 184 173   0   0   0   0   0   0   0]\n",
      " [  0   0   0   0   0   0   0   0  58 184 122 166 198 115   0   0 217 158 160 180 167   0   0   0   0   0   0   0]\n",
      " [  0   0   0   0   0   0   0   0  58 204 111 172 203  79   0   0 204 164 155 188 169   0   0   0   0   0   0   0]\n",
      " [  0   0   0   0   0   0   0   0  55 214 138 177 209  41   0   0 186 180 152 187 168   0   0   0   0   0   0   0]\n",
      " [  0   0   0   0   0   0   0   0  55 214 149 177 210  23   0   0 158 199 173 192 163   0   0   0   0   0   0   0]\n",
      " [  0   0   0   0   0   0   0   0  55 216 159 187 204   6   0   0 136 198 189 208 165   0   0   0   0   0   0   0]\n",
      " [  0   0   0   0   0   0   0   0  55 212 161 197 191   0   0   0 118 192 185 214 161   0   0   0   0   0   0   0]\n",
      " [  0   0   0   0   0   0   0   0  63 201 162 207 171   0   0   0  86 197 184 214 156   0   0   0   0   0   0   0]\n",
      " [  0   0   0   0   0   0   0   0  68 197 168 213 155   0   0   0  64 196 183 219 154   0   0   0   0   0   0   0]\n",
      " [  0   0   0   0   0   0   0   0  73 193 168 215 146   0   1   0  56 190 180 205 146   0   0   0   0   0   0   0]\n",
      " [  0   0   0   0   0   0   0   0  73 176 168 204 137   0   3   0  37 186 179 204 138   0   0   0   0   0   0   0]\n",
      " [  0   0   0   0   0   0   0   0  94 197 178 212 129   0   5   0  32 193 185 210 150   0   0   0   0   0   0   0]\n",
      " [  0   0   0   0   0   0   0   0  49 122 126 160  65   0   3   0   8 156 173 188 107   0   0   0   0   0   0   0]]\n"
     ]
    },
    {
     "data": {
      "text/plain": [
       "<matplotlib.image.AxesImage at 0x14321fd9cd0>"
      ]
     },
     "execution_count": 11,
     "metadata": {},
     "output_type": "execute_result"
    },
    {
     "data": {
      "image/png": "[encoded data removed]",
      "text/plain": [
       "<Figure size 640x480 with 1 Axes>"
      ]
     },
     "metadata": {},
     "output_type": "display_data"
    }
   ],
   "source": [
    "index = 16\n",
    "\n",
    "# Set number of characters per row when printing\n",
    "np.set_printoptions(linewidth=320)\n",
    "\n",
    "# Print the label and image\n",
    "print(f'LABEL: {training_labels[index]}')\n",
    "print(f'\\nIMAGE PIXEL ARRAY:\\n {training_images[index]}')\n",
    "\n",
    "# Visualize the image\n",
    "plt.imshow(training_images[index])"
   ]
  },
  {
   "cell_type": "markdown",
   "metadata": {},
   "source": [
    "### Modelling The Data"
   ]
  },
  {
   "cell_type": "code",
   "execution_count": 12,
   "metadata": {},
   "outputs": [],
   "source": [
    "# Normalizing the Data\n",
    "training_images = training_images / 255\n",
    "testing_images = testing_images / 255"
   ]
  },
  {
   "cell_type": "code",
   "execution_count": 13,
   "metadata": {},
   "outputs": [
    {
     "name": "stdout",
     "output_type": "stream",
     "text": [
      "WARNING:tensorflow:From c:\\Users\\IKOICHA\\AppData\\Local\\Programs\\Python\\Python311\\Lib\\site-packages\\keras\\src\\backend.py:873: The name tf.get_default_graph is deprecated. Please use tf.compat.v1.get_default_graph instead.\n",
      "\n"
     ]
    }
   ],
   "source": [
    "# Buidling the model\n",
    "model = Sequential([\n",
    "    tf.keras.layers.Flatten(),\n",
    "    Dense(128, activation=tf.nn.relu),\n",
    "    Dense(10, activation=tf.nn.softmax)\n",
    "])"
   ]
  },
  {
   "cell_type": "markdown",
   "metadata": {},
   "source": [
    "## Training the Model"
   ]
  },
  {
   "cell_type": "code",
   "execution_count": 16,
   "metadata": {},
   "outputs": [
    {
     "name": "stdout",
     "output_type": "stream",
     "text": [
      "Epoch 1/10\n",
      "WARNING:tensorflow:From c:\\Users\\IKOICHA\\AppData\\Local\\Programs\\Python\\Python311\\Lib\\site-packages\\keras\\src\\utils\\tf_utils.py:492: The name tf.ragged.RaggedTensorValue is deprecated. Please use tf.compat.v1.ragged.RaggedTensorValue instead.\n",
      "\n",
      "WARNING:tensorflow:From c:\\Users\\IKOICHA\\AppData\\Local\\Programs\\Python\\Python311\\Lib\\site-packages\\keras\\src\\engine\\base_layer_utils.py:384: The name tf.executing_eagerly_outside_functions is deprecated. Please use tf.compat.v1.executing_eagerly_outside_functions instead.\n",
      "\n",
      "1875/1875 [==============================] - 8s 3ms/step - loss: 0.4906 - accuracy: 0.8266\n",
      "Epoch 2/10\n",
      "1875/1875 [==============================] - 6s 3ms/step - loss: 0.3703 - accuracy: 0.8680\n",
      "Epoch 3/10\n",
      "1875/1875 [==============================] - 6s 3ms/step - loss: 0.3349 - accuracy: 0.8774\n",
      "Epoch 4/10\n",
      "1875/1875 [==============================] - 6s 3ms/step - loss: 0.3111 - accuracy: 0.8861\n",
      "Epoch 5/10\n",
      "1875/1875 [==============================] - 7s 4ms/step - loss: 0.2954 - accuracy: 0.8897\n",
      "Epoch 6/10\n",
      "1875/1875 [==============================] - 8s 4ms/step - loss: 0.2799 - accuracy: 0.8966\n",
      "Epoch 7/10\n",
      "1875/1875 [==============================] - 7s 4ms/step - loss: 0.2670 - accuracy: 0.9010\n",
      "Epoch 8/10\n",
      "1875/1875 [==============================] - 7s 4ms/step - loss: 0.2581 - accuracy: 0.9025\n",
      "Epoch 9/10\n",
      "1875/1875 [==============================] - 7s 4ms/step - loss: 0.2449 - accuracy: 0.9090\n",
      "Epoch 10/10\n",
      "1875/1875 [==============================] - 7s 4ms/step - loss: 0.2394 - accuracy: 0.9105\n"
     ]
    },
    {
     "data": {
      "text/plain": [
       "<keras.src.callbacks.History at 0x1431ca69490>"
      ]
     },
     "execution_count": 16,
     "metadata": {},
     "output_type": "execute_result"
    }
   ],
   "source": [
    "# Compiling the Model\n",
    "model.compile(\n",
    "    optimizer = tf.optimizers.Adam(),\n",
    "    loss = 'sparse_categorical_crossentropy',\n",
    "    metrics = ['accuracy']\n",
    ")\n",
    "model.fit(training_images, training_labels, epochs=10)"
   ]
  },
  {
   "cell_type": "code",
   "execution_count": 17,
   "metadata": {},
   "outputs": [
    {
     "name": "stdout",
     "output_type": "stream",
     "text": [
      "313/313 [==============================] - 1s 2ms/step - loss: 0.3392 - accuracy: 0.8829\n"
     ]
    },
    {
     "data": {
      "text/plain": [
       "[0.3392488658428192, 0.8828999996185303]"
      ]
     },
     "execution_count": 17,
     "metadata": {},
     "output_type": "execute_result"
    }
   ],
   "source": [
    "# Evaluate the model on unseen data\n",
    "model.evaluate(testing_images, testing_labels)"
   ]
  },
  {
   "cell_type": "markdown",
   "metadata": {},
   "source": [
    "## Testing the Model"
   ]
  },
  {
   "cell_type": "code",
   "execution_count": 19,
   "metadata": {},
   "outputs": [
    {
     "name": "stdout",
     "output_type": "stream",
     "text": [
      "313/313 [==============================] - 1s 2ms/step\n",
      "[8.08259593e-09 8.83499829e-10 7.09288128e-10 9.37925709e-11 6.03550676e-09 2.22926014e-04 1.11594034e-07 4.10893047e-03 1.73970278e-08 9.95668054e-01]\n"
     ]
    }
   ],
   "source": [
    "classifications = model.predict(testing_images)\n",
    "\n",
    "print(classifications[0])"
   ]
  },
  {
   "cell_type": "code",
   "execution_count": 20,
   "metadata": {},
   "outputs": [
    {
     "name": "stdout",
     "output_type": "stream",
     "text": [
      "9\n"
     ]
    }
   ],
   "source": [
    "print(testing_labels[0])"
   ]
  }
 ],
 "metadata": {
  "kernelspec": {
   "display_name": "Python 3",
   "language": "python",
   "name": "python3"
  },
  "language_info": {
   "codemirror_mode": {
    "name": "ipython",
    "version": 3
   },
   "file_extension": ".py",
   "mimetype": "text/x-python",
   "name": "python",
   "nbconvert_exporter": "python",
   "pygments_lexer": "ipython3",
   "version": "3.11.1"
  }
 },
 "nbformat": 4,
 "nbformat_minor": 2
}
